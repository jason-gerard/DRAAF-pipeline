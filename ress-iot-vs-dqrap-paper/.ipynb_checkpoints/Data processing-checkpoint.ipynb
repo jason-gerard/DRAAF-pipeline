{
 "cells": [
  {
   "cell_type": "code",
   "execution_count": 2,
   "id": "21768ec3",
   "metadata": {},
   "outputs": [],
   "source": [
    "import pandas as pd\n",
    "import numpy as np\n",
    "import matplotlib.pyplot as plt"
   ]
  },
  {
   "cell_type": "code",
   "execution_count": 20,
   "id": "aee4c3ed",
   "metadata": {},
   "outputs": [
    {
     "name": "stdout",
     "output_type": "stream",
     "text": [
      "Exported 768 scalars, 2930 parameters, 68 histograms\n"
     ]
    }
   ],
   "source": [
    "import os\n",
    "\n",
    "file_name = \"data.sca.csv\"\n",
    "os.system(f\"opp_scavetool x ~/Applications/omnetpp-6.0.1/samples/florasat/simulations/satellitewired/results/*.sca -o {file_name}\")\n",
    "\n",
    "df = pd.read_csv(file_name)"
   ]
  },
  {
   "cell_type": "code",
   "execution_count": 58,
   "id": "d1bee1cc",
   "metadata": {},
   "outputs": [
    {
     "data": {
      "text/plain": [
       "22612.5"
      ]
     },
     "execution_count": 58,
     "metadata": {},
     "output_type": "execute_result"
    }
   ],
   "source": [
    "# Total bytes of overhead (Beacon, RTS, VCTS)\n",
    "total_num_rts_packets = df.loc[df['name'] == 'numRTSPacketsSent'].value.astype(int).sum()\n",
    "bits_per_rts_packet = int(df.loc[df['name'] == 'rtsPacketLengthBits'].value.iloc[0])\n",
    "rts_overhead_bytes = (total_num_rts_packets * bits_per_rts_packet) / 8\n",
    "\n",
    "total_num_vcts_packets = int(df.loc[df['name'] == 'numVCTSPacketsSent'].value.iloc[0])\n",
    "bits_per_vcts_packet = int(df.loc[df['name'] == 'vctsPacketLengthBits'].value.iloc[0])\n",
    "vcts_overhead_bytes = (total_num_vcts_packets * bits_per_vcts_packet) / 8\n",
    "\n",
    "total_num_beacon_packets = int(df.loc[df['name'] == 'numBeaconPacketsSent'].value.iloc[0])\n",
    "bits_per_beacon_packet = int(df.loc[df['name'] == 'beaconPacketLengthBits'].value.iloc[0])\n",
    "beacon_overhead_bytes = (total_num_beacon_packets * bits_per_beacon_packet) / 8\n",
    "\n",
    "overhead_bytes = rts_overhead_bytes + vcts_overhead_bytes + beacon_overhead_bytes\n",
    "overhead_bytes"
   ]
  },
  {
   "cell_type": "code",
   "execution_count": 59,
   "id": "d1d64f19",
   "metadata": {},
   "outputs": [
    {
     "data": {
      "text/plain": [
       "123.99196081652948"
      ]
     },
     "execution_count": 59,
     "metadata": {},
     "output_type": "execute_result"
    }
   ],
   "source": [
    "# Throughput b / s\n",
    "sim_time_second = float(df.loc[df['name'] == 'simulated time'].value.iloc[0])\n",
    "bits_per_data_packet = int(df.loc[df['name'] == 'dataPacketLengthBits'].value.iloc[0])\n",
    "num_data_packets = int(df.loc[df['name'] == 'numDataPacketsReceived'].value.iloc[0])\n",
    "\n",
    "throughput_bits_per_second = (num_data_packets * bits_per_data_packet) / sim_time_second\n",
    "throughput_bits_per_second"
   ]
  },
  {
   "cell_type": "code",
   "execution_count": 70,
   "id": "be090d4c",
   "metadata": {},
   "outputs": [
    {
     "data": {
      "text/plain": [
       "446.37105893950627"
      ]
     },
     "execution_count": 70,
     "metadata": {},
     "output_type": "execute_result"
    }
   ],
   "source": [
    "# Throughput kb / hr\n",
    "sim_time_hours = float(df.loc[df['name'] == 'simulated time'].value.iloc[0]) / 60 / 60\n",
    "kilobits_per_data_packet = int(df.loc[df['name'] == 'dataPacketLengthBits'].value.iloc[0]) / 1000\n",
    "num_data_packets = int(df.loc[df['name'] == 'numDataPacketsReceived'].value.iloc[0])\n",
    "\n",
    "throughput_kilobits_per_hour = (num_data_packets * kilobits_per_data_packet) / sim_time_hours\n",
    "throughput_kilobits_per_hour"
   ]
  },
  {
   "cell_type": "code",
   "execution_count": 90,
   "id": "b97f1d07",
   "metadata": {},
   "outputs": [
    {
     "data": {
      "text/plain": [
       "0.7736842105263158"
      ]
     },
     "execution_count": 90,
     "metadata": {},
     "output_type": "execute_result"
    }
   ],
   "source": [
    "# Jain's Fairness Index\n",
    "num_nodes = int(df.loc[df['name'] == 'nrOfNodes'].value.iloc[0])\n",
    "denominator = num_nodes * df[df['name'].str.startswith('numDataPacketsReceivedByNodeId', na=False)].value.astype(int).pow(2).sum()\n",
    "numerator =  df[df['name'].str.startswith('numDataPacketsReceivedByNodeId', na=False)].value.astype(int).sum() ** 2.0\n",
    "\n",
    "jfi = numerator / denominator\n",
    "jfi"
   ]
  },
  {
   "cell_type": "code",
   "execution_count": null,
   "id": "9d2043f0",
   "metadata": {},
   "outputs": [],
   "source": []
  }
 ],
 "metadata": {
  "kernelspec": {
   "display_name": "Python 3 (ipykernel)",
   "language": "python",
   "name": "python3"
  },
  "language_info": {
   "codemirror_mode": {
    "name": "ipython",
    "version": 3
   },
   "file_extension": ".py",
   "mimetype": "text/x-python",
   "name": "python",
   "nbconvert_exporter": "python",
   "pygments_lexer": "ipython3",
   "version": "3.8.10"
  }
 },
 "nbformat": 4,
 "nbformat_minor": 5
}
