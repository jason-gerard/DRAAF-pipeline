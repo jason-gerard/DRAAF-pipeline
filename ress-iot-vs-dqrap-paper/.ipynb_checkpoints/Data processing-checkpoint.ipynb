{
 "cells": [
  {
   "cell_type": "code",
   "execution_count": 4,
   "id": "21768ec3",
   "metadata": {},
   "outputs": [],
   "source": [
    "import pandas as pd\n",
    "import numpy as np\n",
    "import matplotlib.pyplot as plt"
   ]
  },
  {
   "cell_type": "code",
   "execution_count": 24,
   "id": "aee4c3ed",
   "metadata": {},
   "outputs": [
    {
     "name": "stdout",
     "output_type": "stream",
     "text": [
      "Exported 765 scalars, 2930 parameters, 68 histograms\n",
      "Exported 1039 scalars, 4160 parameters, 118 histograms\n",
      "Exported 1875 scalars, 7850 parameters, 268 histograms\n",
      "Exported 1579 scalars, 6620 parameters, 218 histograms\n",
      "Exported 1322 scalars, 5390 parameters, 168 histograms\n"
     ]
    }
   ],
   "source": [
    "import os\n",
    "\n",
    "results_path = \"/home/jason/Applications/omnetpp-6.0.1/samples/florasat/simulations/satellitewired/results\"\n",
    "sca_files = [f for f in os.listdir(results_path) if \"N=\" in f and f.endswith(\".sca\")]\n",
    "\n",
    "dfs = []\n",
    "for file in sca_files:\n",
    "    os.system(f\"opp_scavetool x {os.path.join(results_path, file)} -o {file}.csv\")\n",
    "\n",
    "    df = pd.read_csv(f\"{file}.csv\")\n",
    "    dfs.append(df)\n",
    "\n",
    "dfs.sort(key=lambda df: int(df.loc[df['name'] == 'nrOfNodes'].value.iloc[0]))"
   ]
  },
  {
   "cell_type": "code",
   "execution_count": 7,
   "id": "d1bee1cc",
   "metadata": {},
   "outputs": [],
   "source": [
    "def get_overhead_bytes(df):\n",
    "    # Total bytes of overhead (Beacon, RTS, VCTS)\n",
    "    total_num_rts_packets = df.loc[df['name'] == 'numRTSPacketsSent'].value.astype(int).sum()\n",
    "    bits_per_rts_packet = int(df.loc[df['name'] == 'rtsPacketLengthBits'].value.iloc[0])\n",
    "    rts_overhead_bytes = (total_num_rts_packets * bits_per_rts_packet) / 8\n",
    "\n",
    "    total_num_vcts_packets = int(df.loc[df['name'] == 'numVCTSPacketsSent'].value.iloc[0])\n",
    "    bits_per_vcts_packet = int(df.loc[df['name'] == 'vctsPacketLengthBits'].value.iloc[0])\n",
    "    vcts_overhead_bytes = (total_num_vcts_packets * bits_per_vcts_packet) / 8\n",
    "\n",
    "    total_num_beacon_packets = int(df.loc[df['name'] == 'numBeaconPacketsSent'].value.iloc[0])\n",
    "    bits_per_beacon_packet = int(df.loc[df['name'] == 'beaconPacketLengthBits'].value.iloc[0])\n",
    "    beacon_overhead_bytes = (total_num_beacon_packets * bits_per_beacon_packet) / 8\n",
    "\n",
    "    overhead_bytes = rts_overhead_bytes + vcts_overhead_bytes + beacon_overhead_bytes\n",
    "    \n",
    "    return overhead_bytes"
   ]
  },
  {
   "cell_type": "code",
   "execution_count": 8,
   "id": "d1d64f19",
   "metadata": {},
   "outputs": [],
   "source": [
    "def get_throughput_bytes_per_second(df):\n",
    "    # Throughput b / s\n",
    "    sim_time_second = float(df.loc[df['name'] == 'simulated time'].value.iloc[0])\n",
    "    bits_per_data_packet = int(df.loc[df['name'] == 'dataPacketLengthBits'].value.iloc[0])\n",
    "    num_data_packets = int(df.loc[df['name'] == 'numDataPacketsReceived'].value.iloc[0])\n",
    "\n",
    "    throughput_bits_per_second = (num_data_packets * bits_per_data_packet) / sim_time_second\n",
    "    return throughput_bits_per_second"
   ]
  },
  {
   "cell_type": "code",
   "execution_count": 9,
   "id": "be090d4c",
   "metadata": {},
   "outputs": [],
   "source": [
    "def get_throughput_kilobytes_per_hour(df):\n",
    "    # Throughput kb / hr\n",
    "    sim_time_hours = float(df.loc[df['name'] == 'simulated time'].value.iloc[0]) / 60 / 60\n",
    "    kilobits_per_data_packet = int(df.loc[df['name'] == 'dataPacketLengthBits'].value.iloc[0]) / 1000\n",
    "    num_data_packets = int(df.loc[df['name'] == 'numDataPacketsReceived'].value.iloc[0])\n",
    "\n",
    "    throughput_kilobits_per_hour = (num_data_packets * kilobits_per_data_packet) / sim_time_hours\n",
    "    return throughput_kilobits_per_hour"
   ]
  },
  {
   "cell_type": "code",
   "execution_count": 17,
   "id": "b97f1d07",
   "metadata": {},
   "outputs": [],
   "source": [
    "def get_jfi(df):\n",
    "    # Jain's Fairness Index\n",
    "    num_nodes = int(df.loc[df['name'] == 'nrOfNodes'].value.iloc[0])\n",
    "    denominator = num_nodes * df[df['name'].str.startswith('numDataPacketsReceivedByNodeId', na=False)].value.astype(int).pow(2).sum()\n",
    "    numerator =  df[df['name'].str.startswith('numDataPacketsReceivedByNodeId', na=False)].value.astype(int).sum() ** 2.0\n",
    "    jfi = numerator / denominator if denominator != 0 else 0\n",
    "    return jfi"
   ]
  },
  {
   "cell_type": "code",
   "execution_count": 25,
   "id": "9d2043f0",
   "metadata": {},
   "outputs": [],
   "source": [
    "node_count = []\n",
    "jfi_nodes = []\n",
    "\n",
    "for df in dfs:\n",
    "    node_count.append(int(df.loc[df['name'] == 'nrOfNodes'].value.iloc[0]))\n",
    "    jfi_nodes.append(get_jfi(df))"
   ]
  },
  {
   "cell_type": "code",
   "execution_count": 26,
   "id": "687bdd83",
   "metadata": {},
   "outputs": [
    {
     "name": "stdout",
     "output_type": "stream",
     "text": [
      "[10, 20, 30, 40, 50] [0.7736842105263158, 0.18846153846153846, 0.21333333333333335, 0, 0]\n"
     ]
    },
    {
     "data": {
      "image/png": "[encoded data removed]",
      "text/plain": [
       "<Figure size 640x480 with 1 Axes>"
      ]
     },
     "metadata": {},
     "output_type": "display_data"
    }
   ],
   "source": [
    "print(node_count,jfi_nodes)\n",
    "plt.plot(node_count,jfi_nodes)\n",
    "plt.show()"
   ]
  },
  {
   "cell_type": "code",
   "execution_count": null,
   "id": "4a3ae811",
   "metadata": {},
   "outputs": [],
   "source": []
  }
 ],
 "metadata": {
  "kernelspec": {
   "display_name": "Python 3 (ipykernel)",
   "language": "python",
   "name": "python3"
  },
  "language_info": {
   "codemirror_mode": {
    "name": "ipython",
    "version": 3
   },
   "file_extension": ".py",
   "mimetype": "text/x-python",
   "name": "python",
   "nbconvert_exporter": "python",
   "pygments_lexer": "ipython3",
   "version": "3.8.10"
  }
 },
 "nbformat": 4,
 "nbformat_minor": 5
}
